{
 "cells": [
  {
   "cell_type": "code",
   "execution_count": 210,
   "id": "5ed314b8",
   "metadata": {},
   "outputs": [
    {
     "name": "stderr",
     "output_type": "stream",
     "text": [
      "huggingface/tokenizers: The current process just got forked, after parallelism has already been used. Disabling parallelism to avoid deadlocks...\n",
      "To disable this warning, you can either:\n",
      "\t- Avoid using `tokenizers` before the fork if possible\n",
      "\t- Explicitly set the environment variable TOKENIZERS_PARALLELISM=(true | false)\n"
     ]
    },
    {
     "name": "stdout",
     "output_type": "stream",
     "text": [
      "Requirement already satisfied: transformers in /Users/ishanalawade/.pyenv/versions/3.9.18/lib/python3.9/site-packages (4.36.0)\n",
      "Requirement already satisfied: requests in /Users/ishanalawade/.pyenv/versions/3.9.18/lib/python3.9/site-packages (from transformers) (2.31.0)\n",
      "Requirement already satisfied: packaging>=20.0 in /Users/ishanalawade/.pyenv/versions/3.9.18/lib/python3.9/site-packages (from transformers) (23.2)\n",
      "Requirement already satisfied: huggingface-hub<1.0,>=0.19.3 in /Users/ishanalawade/.pyenv/versions/3.9.18/lib/python3.9/site-packages (from transformers) (0.19.4)\n",
      "Requirement already satisfied: regex!=2019.12.17 in /Users/ishanalawade/.pyenv/versions/3.9.18/lib/python3.9/site-packages (from transformers) (2023.10.3)\n",
      "Requirement already satisfied: tokenizers<0.19,>=0.14 in /Users/ishanalawade/.pyenv/versions/3.9.18/lib/python3.9/site-packages (from transformers) (0.15.0)\n",
      "Requirement already satisfied: numpy>=1.17 in /Users/ishanalawade/.pyenv/versions/3.9.18/lib/python3.9/site-packages (from transformers) (1.26.2)\n",
      "Requirement already satisfied: pyyaml>=5.1 in /Users/ishanalawade/.pyenv/versions/3.9.18/lib/python3.9/site-packages (from transformers) (6.0.1)\n",
      "Requirement already satisfied: filelock in /Users/ishanalawade/.pyenv/versions/3.9.18/lib/python3.9/site-packages (from transformers) (3.13.1)\n",
      "Requirement already satisfied: safetensors>=0.3.1 in /Users/ishanalawade/.pyenv/versions/3.9.18/lib/python3.9/site-packages (from transformers) (0.4.1)\n",
      "Requirement already satisfied: tqdm>=4.27 in /Users/ishanalawade/.pyenv/versions/3.9.18/lib/python3.9/site-packages (from transformers) (4.66.1)\n",
      "Requirement already satisfied: typing-extensions>=3.7.4.3 in /Users/ishanalawade/.pyenv/versions/3.9.18/lib/python3.9/site-packages (from huggingface-hub<1.0,>=0.19.3->transformers) (4.9.0)\n",
      "Requirement already satisfied: fsspec>=2023.5.0 in /Users/ishanalawade/.pyenv/versions/3.9.18/lib/python3.9/site-packages (from huggingface-hub<1.0,>=0.19.3->transformers) (2023.12.2)\n",
      "Requirement already satisfied: idna<4,>=2.5 in /Users/ishanalawade/.pyenv/versions/3.9.18/lib/python3.9/site-packages (from requests->transformers) (3.6)\n",
      "Requirement already satisfied: charset-normalizer<4,>=2 in /Users/ishanalawade/.pyenv/versions/3.9.18/lib/python3.9/site-packages (from requests->transformers) (3.3.2)\n",
      "Requirement already satisfied: urllib3<3,>=1.21.1 in /Users/ishanalawade/.pyenv/versions/3.9.18/lib/python3.9/site-packages (from requests->transformers) (2.1.0)\n",
      "Requirement already satisfied: certifi>=2017.4.17 in /Users/ishanalawade/.pyenv/versions/3.9.18/lib/python3.9/site-packages (from requests->transformers) (2023.11.17)\n",
      "\n",
      "\u001b[1m[\u001b[0m\u001b[34;49mnotice\u001b[0m\u001b[1;39;49m]\u001b[0m\u001b[39;49m A new release of pip is available: \u001b[0m\u001b[31;49m23.0.1\u001b[0m\u001b[39;49m -> \u001b[0m\u001b[32;49m23.3.1\u001b[0m\n",
      "\u001b[1m[\u001b[0m\u001b[34;49mnotice\u001b[0m\u001b[1;39;49m]\u001b[0m\u001b[39;49m To update, run: \u001b[0m\u001b[32;49mpip install --upgrade pip\u001b[0m\n"
     ]
    }
   ],
   "source": [
    "!pip install transformers"
   ]
  },
  {
   "cell_type": "code",
   "execution_count": 211,
   "id": "bbc94564",
   "metadata": {
    "scrolled": true
   },
   "outputs": [
    {
     "name": "stderr",
     "output_type": "stream",
     "text": [
      "huggingface/tokenizers: The current process just got forked, after parallelism has already been used. Disabling parallelism to avoid deadlocks...\n",
      "To disable this warning, you can either:\n",
      "\t- Avoid using `tokenizers` before the fork if possible\n",
      "\t- Explicitly set the environment variable TOKENIZERS_PARALLELISM=(true | false)\n"
     ]
    },
    {
     "name": "stdout",
     "output_type": "stream",
     "text": [
      "Requirement already satisfied: torch in /Users/ishanalawade/.pyenv/versions/3.9.18/lib/python3.9/site-packages (2.1.1)\n",
      "Requirement already satisfied: networkx in /Users/ishanalawade/.pyenv/versions/3.9.18/lib/python3.9/site-packages (from torch) (3.2.1)\n",
      "Requirement already satisfied: sympy in /Users/ishanalawade/.pyenv/versions/3.9.18/lib/python3.9/site-packages (from torch) (1.12)\n",
      "Requirement already satisfied: jinja2 in /Users/ishanalawade/.pyenv/versions/3.9.18/lib/python3.9/site-packages (from torch) (3.1.2)\n",
      "Requirement already satisfied: filelock in /Users/ishanalawade/.pyenv/versions/3.9.18/lib/python3.9/site-packages (from torch) (3.13.1)\n",
      "Requirement already satisfied: typing-extensions in /Users/ishanalawade/.pyenv/versions/3.9.18/lib/python3.9/site-packages (from torch) (4.9.0)\n",
      "Requirement already satisfied: fsspec in /Users/ishanalawade/.pyenv/versions/3.9.18/lib/python3.9/site-packages (from torch) (2023.12.2)\n",
      "Requirement already satisfied: MarkupSafe>=2.0 in /Users/ishanalawade/.pyenv/versions/3.9.18/lib/python3.9/site-packages (from jinja2->torch) (2.1.3)\n",
      "Requirement already satisfied: mpmath>=0.19 in /Users/ishanalawade/.pyenv/versions/3.9.18/lib/python3.9/site-packages (from sympy->torch) (1.3.0)\n",
      "\n",
      "\u001b[1m[\u001b[0m\u001b[34;49mnotice\u001b[0m\u001b[1;39;49m]\u001b[0m\u001b[39;49m A new release of pip is available: \u001b[0m\u001b[31;49m23.0.1\u001b[0m\u001b[39;49m -> \u001b[0m\u001b[32;49m23.3.1\u001b[0m\n",
      "\u001b[1m[\u001b[0m\u001b[34;49mnotice\u001b[0m\u001b[1;39;49m]\u001b[0m\u001b[39;49m To update, run: \u001b[0m\u001b[32;49mpip install --upgrade pip\u001b[0m\n",
      "Note: you may need to restart the kernel to use updated packages.\n"
     ]
    }
   ],
   "source": [
    "pip install torch"
   ]
  },
  {
   "cell_type": "code",
   "execution_count": 212,
   "id": "0139ce9f-cc01-4ef7-8fe7-a2b619fb1b67",
   "metadata": {},
   "outputs": [],
   "source": [
    "import torch"
   ]
  },
  {
   "cell_type": "code",
   "execution_count": 213,
   "id": "aa867a87",
   "metadata": {},
   "outputs": [],
   "source": [
    "# Load model directly\n",
    "from transformers import AutoTokenizer, AutoModelForSeq2SeqLM\n",
    "\n",
    "tokenizer = AutoTokenizer.from_pretrained(\"humarin/chatgpt_paraphraser_on_T5_base\")\n",
    "model = AutoModelForSeq2SeqLM.from_pretrained(\"humarin/chatgpt_paraphraser_on_T5_base\")"
   ]
  },
  {
   "cell_type": "code",
   "execution_count": 214,
   "id": "83363d8a-ec76-4e6b-8e99-c2b816dd12e8",
   "metadata": {},
   "outputs": [
    {
     "name": "stderr",
     "output_type": "stream",
     "text": [
      "huggingface/tokenizers: The current process just got forked, after parallelism has already been used. Disabling parallelism to avoid deadlocks...\n",
      "To disable this warning, you can either:\n",
      "\t- Avoid using `tokenizers` before the fork if possible\n",
      "\t- Explicitly set the environment variable TOKENIZERS_PARALLELISM=(true | false)\n"
     ]
    },
    {
     "name": "stdout",
     "output_type": "stream",
     "text": [
      "Requirement already satisfied: sentence_transformers in /Users/ishanalawade/.pyenv/versions/3.9.18/lib/python3.9/site-packages (2.2.2)\n",
      "Requirement already satisfied: transformers<5.0.0,>=4.6.0 in /Users/ishanalawade/.pyenv/versions/3.9.18/lib/python3.9/site-packages (from sentence_transformers) (4.36.0)\n",
      "Requirement already satisfied: tqdm in /Users/ishanalawade/.pyenv/versions/3.9.18/lib/python3.9/site-packages (from sentence_transformers) (4.66.1)\n",
      "Requirement already satisfied: torch>=1.6.0 in /Users/ishanalawade/.pyenv/versions/3.9.18/lib/python3.9/site-packages (from sentence_transformers) (2.1.1)\n",
      "Requirement already satisfied: torchvision in /Users/ishanalawade/.pyenv/versions/3.9.18/lib/python3.9/site-packages (from sentence_transformers) (0.16.1)\n",
      "Requirement already satisfied: numpy in /Users/ishanalawade/.pyenv/versions/3.9.18/lib/python3.9/site-packages (from sentence_transformers) (1.26.2)\n",
      "Requirement already satisfied: scikit-learn in /Users/ishanalawade/.pyenv/versions/3.9.18/lib/python3.9/site-packages (from sentence_transformers) (1.3.2)\n",
      "Requirement already satisfied: scipy in /Users/ishanalawade/.pyenv/versions/3.9.18/lib/python3.9/site-packages (from sentence_transformers) (1.11.4)\n",
      "Requirement already satisfied: nltk in /Users/ishanalawade/.pyenv/versions/3.9.18/lib/python3.9/site-packages (from sentence_transformers) (3.8.1)\n",
      "Requirement already satisfied: sentencepiece in /Users/ishanalawade/.pyenv/versions/3.9.18/lib/python3.9/site-packages (from sentence_transformers) (0.1.99)\n",
      "Requirement already satisfied: huggingface-hub>=0.4.0 in /Users/ishanalawade/.pyenv/versions/3.9.18/lib/python3.9/site-packages (from sentence_transformers) (0.19.4)\n",
      "Requirement already satisfied: pyyaml>=5.1 in /Users/ishanalawade/.pyenv/versions/3.9.18/lib/python3.9/site-packages (from huggingface-hub>=0.4.0->sentence_transformers) (6.0.1)\n",
      "Requirement already satisfied: typing-extensions>=3.7.4.3 in /Users/ishanalawade/.pyenv/versions/3.9.18/lib/python3.9/site-packages (from huggingface-hub>=0.4.0->sentence_transformers) (4.9.0)\n",
      "Requirement already satisfied: packaging>=20.9 in /Users/ishanalawade/.pyenv/versions/3.9.18/lib/python3.9/site-packages (from huggingface-hub>=0.4.0->sentence_transformers) (23.2)\n",
      "Requirement already satisfied: requests in /Users/ishanalawade/.pyenv/versions/3.9.18/lib/python3.9/site-packages (from huggingface-hub>=0.4.0->sentence_transformers) (2.31.0)\n",
      "Requirement already satisfied: filelock in /Users/ishanalawade/.pyenv/versions/3.9.18/lib/python3.9/site-packages (from huggingface-hub>=0.4.0->sentence_transformers) (3.13.1)\n",
      "Requirement already satisfied: fsspec>=2023.5.0 in /Users/ishanalawade/.pyenv/versions/3.9.18/lib/python3.9/site-packages (from huggingface-hub>=0.4.0->sentence_transformers) (2023.12.2)\n",
      "Requirement already satisfied: sympy in /Users/ishanalawade/.pyenv/versions/3.9.18/lib/python3.9/site-packages (from torch>=1.6.0->sentence_transformers) (1.12)\n",
      "Requirement already satisfied: networkx in /Users/ishanalawade/.pyenv/versions/3.9.18/lib/python3.9/site-packages (from torch>=1.6.0->sentence_transformers) (3.2.1)\n",
      "Requirement already satisfied: jinja2 in /Users/ishanalawade/.pyenv/versions/3.9.18/lib/python3.9/site-packages (from torch>=1.6.0->sentence_transformers) (3.1.2)\n",
      "Requirement already satisfied: regex!=2019.12.17 in /Users/ishanalawade/.pyenv/versions/3.9.18/lib/python3.9/site-packages (from transformers<5.0.0,>=4.6.0->sentence_transformers) (2023.10.3)\n",
      "Requirement already satisfied: tokenizers<0.19,>=0.14 in /Users/ishanalawade/.pyenv/versions/3.9.18/lib/python3.9/site-packages (from transformers<5.0.0,>=4.6.0->sentence_transformers) (0.15.0)\n",
      "Requirement already satisfied: safetensors>=0.3.1 in /Users/ishanalawade/.pyenv/versions/3.9.18/lib/python3.9/site-packages (from transformers<5.0.0,>=4.6.0->sentence_transformers) (0.4.1)\n",
      "Requirement already satisfied: joblib in /Users/ishanalawade/.pyenv/versions/3.9.18/lib/python3.9/site-packages (from nltk->sentence_transformers) (1.3.2)\n",
      "Requirement already satisfied: click in /Users/ishanalawade/.pyenv/versions/3.9.18/lib/python3.9/site-packages (from nltk->sentence_transformers) (8.1.7)\n",
      "Requirement already satisfied: threadpoolctl>=2.0.0 in /Users/ishanalawade/.pyenv/versions/3.9.18/lib/python3.9/site-packages (from scikit-learn->sentence_transformers) (3.2.0)\n",
      "Requirement already satisfied: pillow!=8.3.*,>=5.3.0 in /Users/ishanalawade/.pyenv/versions/3.9.18/lib/python3.9/site-packages (from torchvision->sentence_transformers) (10.1.0)\n",
      "Requirement already satisfied: MarkupSafe>=2.0 in /Users/ishanalawade/.pyenv/versions/3.9.18/lib/python3.9/site-packages (from jinja2->torch>=1.6.0->sentence_transformers) (2.1.3)\n",
      "Requirement already satisfied: charset-normalizer<4,>=2 in /Users/ishanalawade/.pyenv/versions/3.9.18/lib/python3.9/site-packages (from requests->huggingface-hub>=0.4.0->sentence_transformers) (3.3.2)\n",
      "Requirement already satisfied: urllib3<3,>=1.21.1 in /Users/ishanalawade/.pyenv/versions/3.9.18/lib/python3.9/site-packages (from requests->huggingface-hub>=0.4.0->sentence_transformers) (2.1.0)\n",
      "Requirement already satisfied: idna<4,>=2.5 in /Users/ishanalawade/.pyenv/versions/3.9.18/lib/python3.9/site-packages (from requests->huggingface-hub>=0.4.0->sentence_transformers) (3.6)\n",
      "Requirement already satisfied: certifi>=2017.4.17 in /Users/ishanalawade/.pyenv/versions/3.9.18/lib/python3.9/site-packages (from requests->huggingface-hub>=0.4.0->sentence_transformers) (2023.11.17)\n",
      "Requirement already satisfied: mpmath>=0.19 in /Users/ishanalawade/.pyenv/versions/3.9.18/lib/python3.9/site-packages (from sympy->torch>=1.6.0->sentence_transformers) (1.3.0)\n",
      "\n",
      "\u001b[1m[\u001b[0m\u001b[34;49mnotice\u001b[0m\u001b[1;39;49m]\u001b[0m\u001b[39;49m A new release of pip is available: \u001b[0m\u001b[31;49m23.0.1\u001b[0m\u001b[39;49m -> \u001b[0m\u001b[32;49m23.3.1\u001b[0m\n",
      "\u001b[1m[\u001b[0m\u001b[34;49mnotice\u001b[0m\u001b[1;39;49m]\u001b[0m\u001b[39;49m To update, run: \u001b[0m\u001b[32;49mpip install --upgrade pip\u001b[0m\n",
      "Note: you may need to restart the kernel to use updated packages.\n"
     ]
    }
   ],
   "source": [
    "pip install sentence_transformers"
   ]
  },
  {
   "cell_type": "code",
   "execution_count": 215,
   "id": "eb32d15c",
   "metadata": {},
   "outputs": [],
   "source": [
    "from sentence_transformers import SentenceTransformer, util"
   ]
  },
  {
   "cell_type": "code",
   "execution_count": 216,
   "id": "4a676afa-1b0c-47e9-8024-f1c40d95cb12",
   "metadata": {},
   "outputs": [
    {
     "name": "stderr",
     "output_type": "stream",
     "text": [
      "huggingface/tokenizers: The current process just got forked, after parallelism has already been used. Disabling parallelism to avoid deadlocks...\n",
      "To disable this warning, you can either:\n",
      "\t- Avoid using `tokenizers` before the fork if possible\n",
      "\t- Explicitly set the environment variable TOKENIZERS_PARALLELISM=(true | false)\n"
     ]
    },
    {
     "name": "stdout",
     "output_type": "stream",
     "text": [
      "Requirement already satisfied: pandas in /Users/ishanalawade/.pyenv/versions/3.9.18/lib/python3.9/site-packages (2.1.4)\n",
      "Requirement already satisfied: tzdata>=2022.1 in /Users/ishanalawade/.pyenv/versions/3.9.18/lib/python3.9/site-packages (from pandas) (2023.3)\n",
      "Requirement already satisfied: pytz>=2020.1 in /Users/ishanalawade/.pyenv/versions/3.9.18/lib/python3.9/site-packages (from pandas) (2023.3.post1)\n",
      "Requirement already satisfied: numpy<2,>=1.22.4 in /Users/ishanalawade/.pyenv/versions/3.9.18/lib/python3.9/site-packages (from pandas) (1.26.2)\n",
      "Requirement already satisfied: python-dateutil>=2.8.2 in /Users/ishanalawade/.pyenv/versions/3.9.18/lib/python3.9/site-packages (from pandas) (2.8.2)\n",
      "Requirement already satisfied: six>=1.5 in /Users/ishanalawade/.pyenv/versions/3.9.18/lib/python3.9/site-packages (from python-dateutil>=2.8.2->pandas) (1.16.0)\n",
      "\n",
      "\u001b[1m[\u001b[0m\u001b[34;49mnotice\u001b[0m\u001b[1;39;49m]\u001b[0m\u001b[39;49m A new release of pip is available: \u001b[0m\u001b[31;49m23.0.1\u001b[0m\u001b[39;49m -> \u001b[0m\u001b[32;49m23.3.1\u001b[0m\n",
      "\u001b[1m[\u001b[0m\u001b[34;49mnotice\u001b[0m\u001b[1;39;49m]\u001b[0m\u001b[39;49m To update, run: \u001b[0m\u001b[32;49mpip install --upgrade pip\u001b[0m\n",
      "Note: you may need to restart the kernel to use updated packages.\n"
     ]
    }
   ],
   "source": [
    "pip install pandas"
   ]
  },
  {
   "cell_type": "code",
   "execution_count": 248,
   "id": "c8876a2a",
   "metadata": {},
   "outputs": [
    {
     "data": {
      "text/html": [
       "<div>\n",
       "<style scoped>\n",
       "    .dataframe tbody tr th:only-of-type {\n",
       "        vertical-align: middle;\n",
       "    }\n",
       "\n",
       "    .dataframe tbody tr th {\n",
       "        vertical-align: top;\n",
       "    }\n",
       "\n",
       "    .dataframe thead th {\n",
       "        text-align: right;\n",
       "    }\n",
       "</style>\n",
       "<table border=\"1\" class=\"dataframe\">\n",
       "  <thead>\n",
       "    <tr style=\"text-align: right;\">\n",
       "      <th></th>\n",
       "      <th>id</th>\n",
       "      <th>input</th>\n",
       "      <th>profile</th>\n",
       "    </tr>\n",
       "  </thead>\n",
       "  <tbody>\n",
       "    <tr>\n",
       "      <th>0</th>\n",
       "      <td>300</td>\n",
       "      <td>Generate a headline for the following article:...</td>\n",
       "      <td>[{'text': 'Homeowners sell their homes and buy...</td>\n",
       "    </tr>\n",
       "    <tr>\n",
       "      <th>1</th>\n",
       "      <td>301</td>\n",
       "      <td>Generate a headline for the following article:...</td>\n",
       "      <td>[{'text': 'This article summarizes the dysfunc...</td>\n",
       "    </tr>\n",
       "    <tr>\n",
       "      <th>2</th>\n",
       "      <td>302</td>\n",
       "      <td>Generate a headline for the following article:...</td>\n",
       "      <td>[{'text': 'Homeowners sell their homes and buy...</td>\n",
       "    </tr>\n",
       "    <tr>\n",
       "      <th>3</th>\n",
       "      <td>303</td>\n",
       "      <td>Generate a headline for the following article:...</td>\n",
       "      <td>[{'text': 'While the attractions and bathing s...</td>\n",
       "    </tr>\n",
       "    <tr>\n",
       "      <th>4</th>\n",
       "      <td>304</td>\n",
       "      <td>Generate a headline for the following article:...</td>\n",
       "      <td>[{'text': 'While the attractions and bathing s...</td>\n",
       "    </tr>\n",
       "  </tbody>\n",
       "</table>\n",
       "</div>"
      ],
      "text/plain": [
       "    id                                              input  \\\n",
       "0  300  Generate a headline for the following article:...   \n",
       "1  301  Generate a headline for the following article:...   \n",
       "2  302  Generate a headline for the following article:...   \n",
       "3  303  Generate a headline for the following article:...   \n",
       "4  304  Generate a headline for the following article:...   \n",
       "\n",
       "                                             profile  \n",
       "0  [{'text': 'Homeowners sell their homes and buy...  \n",
       "1  [{'text': 'This article summarizes the dysfunc...  \n",
       "2  [{'text': 'Homeowners sell their homes and buy...  \n",
       "3  [{'text': 'While the attractions and bathing s...  \n",
       "4  [{'text': 'While the attractions and bathing s...  "
      ]
     },
     "execution_count": 248,
     "metadata": {},
     "output_type": "execute_result"
    }
   ],
   "source": [
    "import json\n",
    "from pprint import pprint\n",
    "import pandas as pd\n",
    "\n",
    "# Specify the path to your JSON file in Google Drive\n",
    "file_path = \"new-headline-train.json\"\n",
    "\n",
    "# Load data from the file\n",
    "with open(file_path, \"r\") as file:\n",
    "    dataset = json.load(file)\n",
    "\n",
    "data = pd.DataFrame.from_dict(dataset)\n",
    "\n",
    "data.head()\n"
   ]
  },
  {
   "cell_type": "code",
   "execution_count": 249,
   "id": "512f125c",
   "metadata": {},
   "outputs": [
    {
     "name": "stdout",
     "output_type": "stream",
     "text": [
      "Your loans were made at the height of the housing bubble, and looked like a great deal at the time. By using a HELOC as a \"piggyback\" second mortgage, you were not required to make a down payment or to purchase mortgage insurance.\n"
     ]
    }
   ],
   "source": [
    "query_start = 'Generate a headline for the following article: '\n",
    "query = dataset[0]['input'][len(query_start):]\n",
    "print(query)"
   ]
  },
  {
   "cell_type": "code",
   "execution_count": 250,
   "id": "ba88cd5f",
   "metadata": {},
   "outputs": [
    {
     "name": "stdout",
     "output_type": "stream",
     "text": [
      "15\n"
     ]
    }
   ],
   "source": [
    "documents=[]\n",
    "for doc in dataset[0]['profile']:\n",
    "    documents.append(doc['text']) \n",
    "print(len(documents))"
   ]
  },
  {
   "cell_type": "code",
   "execution_count": 252,
   "id": "c316822e",
   "metadata": {},
   "outputs": [
    {
     "name": "stdout",
     "output_type": "stream",
     "text": [
      "Rephrased Version 1: The homes you borrowed money for were at the peak of the housing market and appeared attractive to investors. By using a HELOC as an optional secondary mortgage, you were not required to pay down or purchase mortgage insurance.\n",
      "-------------------------------------------\n",
      "Rephrased Version 2: During the height of this housing bubble, you made out-of-pocket loans that seemed like a good deal. By using your HELOC as part of your second mortgage, there was no need to pay remorse or purchase mortgage insurance.\n",
      "-------------------------------------------\n",
      "Rephrased Version 3: You had been granted loans during the height of the housing market, which appeared to be a great deal at the time. By using HGELOC as if it were putting on X amount towards your second mortgage, you avoided paying off the down payment and didn't need to purchase any mortgage insurance.\n",
      "-------------------------------------------\n",
      "Rephrased Version 4: At the height of the housing bubble, you had secured loans that seemed to be a great deal. By using HGELOC as if it were your second mortgage, there was no need for remortgage or mortgage insurance.\n",
      "-------------------------------------------\n",
      "Rephrased Version 5: Your loans were made during the height of the housing bubble and appeared attractive at that time. By using a HELOC as if it were putting on limbo, you were not required to pay remortgage or purchase mortgage insurance.\n",
      "-------------------------------------------\n"
     ]
    }
   ],
   "source": [
    "def paraphrase_t5(\n",
    "    input_sentence,\n",
    "    num_beams=5,\n",
    "    num_beam_groups=5,\n",
    "    num_return_sequences=5,\n",
    "    repetition_penalty=10.0,\n",
    "    diversity_penalty=3.0,\n",
    "    no_repeat_ngram_size=2,\n",
    "    temperature=0.7,\n",
    "    max_length=500\n",
    "):\n",
    "    input_ids = tokenizer(\n",
    "        f'paraphrase: {input_sentence}',\n",
    "        return_tensors=\"pt\", padding=\"longest\",\n",
    "        max_length=max_length,\n",
    "        truncation=True,\n",
    "    ).input_ids\n",
    "    \n",
    "    outputs = model.generate(\n",
    "        input_ids, temperature=temperature, repetition_penalty=repetition_penalty,\n",
    "        num_return_sequences=num_return_sequences, no_repeat_ngram_size=no_repeat_ngram_size,\n",
    "        num_beams=num_beams, num_beam_groups=num_beam_groups,\n",
    "        max_length=max_length, diversity_penalty=diversity_penalty\n",
    "    )\n",
    "\n",
    "    rephrased_versions = tokenizer.batch_decode(outputs, skip_special_tokens=True)\n",
    "\n",
    "    return rephrased_versions\n",
    "\n",
    "# Example usage\n",
    "input_sentence = query\n",
    "rephrased_versions = paraphrase_t5(input_sentence)\n",
    "\n",
    "\n",
    "for i, rephrased_sentence in enumerate(rephrased_versions, start=1):\n",
    "    print(f\"Rephrased Version {i}: {rephrased_sentence}\")\n",
    "    print(\"-------------------------------------------\")"
   ]
  },
  {
   "cell_type": "code",
   "execution_count": 253,
   "id": "1dc3ec3c",
   "metadata": {},
   "outputs": [],
   "source": [
    "#Load the model\n",
    "model2 = SentenceTransformer('sentence-transformers/msmarco-distilbert-cos-v5')"
   ]
  },
  {
   "cell_type": "code",
   "execution_count": 254,
   "id": "e8c6e836",
   "metadata": {},
   "outputs": [],
   "source": [
    "#Encode query and documents\n",
    "# query_emb = model2.encode(query)\n",
    "doc_emb = model2.encode(documents)"
   ]
  },
  {
   "cell_type": "code",
   "execution_count": 255,
   "id": "51f32ffa",
   "metadata": {},
   "outputs": [],
   "source": [
    "# Initialize lists to store relevant documents and scores for each version\n",
    "all_relevant_documents = []\n",
    "all_relevant_scores = []"
   ]
  },
  {
   "cell_type": "code",
   "execution_count": 256,
   "id": "d134b9eb",
   "metadata": {},
   "outputs": [
    {
     "name": "stdout",
     "output_type": "stream",
     "text": [
      "\n",
      "Processing Input Version 1: Your loans were made at the height of the housing bubble, and looked like a great deal at the time. By using a HELOC as a \"piggyback\" second mortgage, you were not required to make a down payment or to purchase mortgage insurance.\n",
      "==================================================\n",
      "Original Score: 0.43686643242836\n",
      "Title: Conventional Versus FHA: Which Should You Choose?\n",
      "Document: Don't jump to the conclusion that the better choice is the mortgage with the lower interest rate. FHAs carry a lower interest rate but largely because of their high insurance premiums, they usually (but not always) cost the borrower more.\n",
      "\n",
      "==================================================\n",
      "Original Score: 0.3464226722717285\n",
      "Title: Some Recent Letters on Downsizing and Mortgage Lender Mistakes\n",
      "Document: In pricing loans used to purchase a home, lenders distinguish three possible uses of the property. Mortgages used to purchase a house that the purchasers intend to occupy as their primary residence get the best price.\n",
      "\n",
      "==================================================\n",
      "Original Score: 0.3247550129890442\n",
      "Title: Investing In a Larger Down Payment: High Yields and No Risk\n",
      "Document: Consumers looking to purchase a home within the near future face many decisions, including how large a down payment to make. The down payment is the sale price (confirmed by a appraisal) less the loan amount. In most cases, home purchasers must have financial assets at least as large as the down payment they make.\n",
      "\n",
      "==================================================\n",
      "Original Score: 0.3234473168849945\n",
      "Title: Why Many Good Mortgage Loans Are Not Being Made\n",
      "Document: The housing sector today is not providing the economic stimulus we had come to expect during periods of economic recovery. A major reason is that the underwriting rules and practices are much stricter today than they were before the financial crisis.\n",
      "\n",
      "==================================================\n",
      "Original Score: 0.2745647728443146\n",
      "Title: Reflections on Mandatory Counseling\n",
      "Document: I have written many articles on regulatory prohibitions and mandatory disclosures in the mortgage market, most of it critical, but this is my first look at mandatory counseling. Except for reverse mortgages, it has not been much used until recently.\n",
      "\n",
      "==================================================\n",
      "\n",
      "Processing Input Version 2: The homes you borrowed money for were at the peak of the housing market and appeared attractive to investors. By using a HELOC as an optional secondary mortgage, you were not required to pay down or purchase mortgage insurance.\n",
      "==================================================\n",
      "Original Score: 0.4442012906074524\n",
      "Title: Some Recent Letters on Downsizing and Mortgage Lender Mistakes\n",
      "Document: In pricing loans used to purchase a home, lenders distinguish three possible uses of the property. Mortgages used to purchase a house that the purchasers intend to occupy as their primary residence get the best price.\n",
      "\n",
      "==================================================\n",
      "Original Score: 0.43254196643829346\n",
      "Title: Conventional Versus FHA: Which Should You Choose?\n",
      "Document: Don't jump to the conclusion that the better choice is the mortgage with the lower interest rate. FHAs carry a lower interest rate but largely because of their high insurance premiums, they usually (but not always) cost the borrower more.\n",
      "\n",
      "==================================================\n",
      "Original Score: 0.3581791818141937\n",
      "Title: Do You Have a Simple Interest Mortgage?\n",
      "Document: This is a good time, therefore, for borrowers to make sure that their mortgage has not been converted into a SIM, and if it has, to develop a plan for protecting themselves. It isn't all that difficult once you know the drill.\n",
      "\n",
      "==================================================\n",
      "Original Score: 0.351762056350708\n",
      "Title: Reflections on Mandatory Counseling\n",
      "Document: I have written many articles on regulatory prohibitions and mandatory disclosures in the mortgage market, most of it critical, but this is my first look at mandatory counseling. Except for reverse mortgages, it has not been much used until recently.\n",
      "\n",
      "==================================================\n",
      "Original Score: 0.35150691866874695\n",
      "Title: Investing In a Larger Down Payment: High Yields and No Risk\n",
      "Document: Consumers looking to purchase a home within the near future face many decisions, including how large a down payment to make. The down payment is the sale price (confirmed by a appraisal) less the loan amount. In most cases, home purchasers must have financial assets at least as large as the down payment they make.\n",
      "\n",
      "==================================================\n",
      "\n",
      "Processing Input Version 3: During the height of this housing bubble, you made out-of-pocket loans that seemed like a good deal. By using your HELOC as part of your second mortgage, there was no need to pay remorse or purchase mortgage insurance.\n",
      "==================================================\n",
      "Original Score: 0.3740348219871521\n",
      "Title: Conventional Versus FHA: Which Should You Choose?\n",
      "Document: Don't jump to the conclusion that the better choice is the mortgage with the lower interest rate. FHAs carry a lower interest rate but largely because of their high insurance premiums, they usually (but not always) cost the borrower more.\n",
      "\n",
      "==================================================\n",
      "Original Score: 0.36869263648986816\n",
      "Title: Some Recent Letters on Downsizing and Mortgage Lender Mistakes\n",
      "Document: In pricing loans used to purchase a home, lenders distinguish three possible uses of the property. Mortgages used to purchase a house that the purchasers intend to occupy as their primary residence get the best price.\n",
      "\n",
      "==================================================\n",
      "Original Score: 0.3281869888305664\n",
      "Title: Why Many Good Mortgage Loans Are Not Being Made\n",
      "Document: The housing sector today is not providing the economic stimulus we had come to expect during periods of economic recovery. A major reason is that the underwriting rules and practices are much stricter today than they were before the financial crisis.\n",
      "\n",
      "==================================================\n",
      "Original Score: 0.28345245122909546\n",
      "Title: Why and How to Eliminate Mortgage Charges by Third Parties\n",
      "Document: Third-party settlement costs could be eliminated by implementation of one simple rule: any service required by lenders as a condition for the granting of a home mortgage must be purchased and paid for by the lender.\n",
      "\n",
      "==================================================\n",
      "Original Score: 0.2799762189388275\n",
      "Title: Investing In a Larger Down Payment: High Yields and No Risk\n",
      "Document: Consumers looking to purchase a home within the near future face many decisions, including how large a down payment to make. The down payment is the sale price (confirmed by a appraisal) less the loan amount. In most cases, home purchasers must have financial assets at least as large as the down payment they make.\n",
      "\n",
      "==================================================\n",
      "\n",
      "Processing Input Version 4: You had been granted loans during the height of the housing market, which appeared to be a great deal at the time. By using HGELOC as if it were putting on X amount towards your second mortgage, you avoided paying off the down payment and didn't need to purchase any mortgage insurance.\n",
      "==================================================\n",
      "Original Score: 0.5142979621887207\n",
      "Title: Conventional Versus FHA: Which Should You Choose?\n",
      "Document: Don't jump to the conclusion that the better choice is the mortgage with the lower interest rate. FHAs carry a lower interest rate but largely because of their high insurance premiums, they usually (but not always) cost the borrower more.\n",
      "\n",
      "==================================================\n",
      "Original Score: 0.4169458746910095\n",
      "Title: Investing In a Larger Down Payment: High Yields and No Risk\n",
      "Document: Consumers looking to purchase a home within the near future face many decisions, including how large a down payment to make. The down payment is the sale price (confirmed by a appraisal) less the loan amount. In most cases, home purchasers must have financial assets at least as large as the down payment they make.\n",
      "\n",
      "==================================================\n",
      "Original Score: 0.36003538966178894\n",
      "Title: Some Recent Letters on Downsizing and Mortgage Lender Mistakes\n",
      "Document: In pricing loans used to purchase a home, lenders distinguish three possible uses of the property. Mortgages used to purchase a house that the purchasers intend to occupy as their primary residence get the best price.\n",
      "\n",
      "==================================================\n",
      "Original Score: 0.33873844146728516\n",
      "Title: Do You Have a Simple Interest Mortgage?\n",
      "Document: This is a good time, therefore, for borrowers to make sure that their mortgage has not been converted into a SIM, and if it has, to develop a plan for protecting themselves. It isn't all that difficult once you know the drill.\n",
      "\n",
      "==================================================\n",
      "Original Score: 0.3146257996559143\n",
      "Title: Why Many Good Mortgage Loans Are Not Being Made\n",
      "Document: The housing sector today is not providing the economic stimulus we had come to expect during periods of economic recovery. A major reason is that the underwriting rules and practices are much stricter today than they were before the financial crisis.\n",
      "\n",
      "==================================================\n",
      "\n",
      "Processing Input Version 5: At the height of the housing bubble, you had secured loans that seemed to be a great deal. By using HGELOC as if it were your second mortgage, there was no need for remortgage or mortgage insurance.\n",
      "==================================================\n",
      "Original Score: 0.41102245450019836\n",
      "Title: Conventional Versus FHA: Which Should You Choose?\n",
      "Document: Don't jump to the conclusion that the better choice is the mortgage with the lower interest rate. FHAs carry a lower interest rate but largely because of their high insurance premiums, they usually (but not always) cost the borrower more.\n",
      "\n",
      "==================================================\n",
      "Original Score: 0.32529962062835693\n",
      "Title: Why Many Good Mortgage Loans Are Not Being Made\n",
      "Document: The housing sector today is not providing the economic stimulus we had come to expect during periods of economic recovery. A major reason is that the underwriting rules and practices are much stricter today than they were before the financial crisis.\n",
      "\n",
      "==================================================\n",
      "Original Score: 0.3072770833969116\n",
      "Title: Some Recent Letters on Downsizing and Mortgage Lender Mistakes\n",
      "Document: In pricing loans used to purchase a home, lenders distinguish three possible uses of the property. Mortgages used to purchase a house that the purchasers intend to occupy as their primary residence get the best price.\n",
      "\n",
      "==================================================\n",
      "Original Score: 0.28594228625297546\n",
      "Title: After March 2, Reverse Mortgage Borrowers Will Have to Prove They Are Not Deadbeats\n",
      "Document: Applicants with plenty of equity in their homes might find that the fully-funded Set-Aside imposes no burden on them at all, in which case the underwriting costs could be avoided. There is no reason why lenders and borrowers should not have that option.\n",
      "\n",
      "==================================================\n",
      "Original Score: 0.28134527802467346\n",
      "Title: Do You Have a Simple Interest Mortgage?\n",
      "Document: This is a good time, therefore, for borrowers to make sure that their mortgage has not been converted into a SIM, and if it has, to develop a plan for protecting themselves. It isn't all that difficult once you know the drill.\n",
      "\n",
      "==================================================\n",
      "\n",
      "Processing Input Version 6: Your loans were made during the height of the housing bubble and appeared attractive at that time. By using a HELOC as if it were putting on limbo, you were not required to pay remortgage or purchase mortgage insurance.\n",
      "==================================================\n",
      "Original Score: 0.39549529552459717\n",
      "Title: Why Many Good Mortgage Loans Are Not Being Made\n",
      "Document: The housing sector today is not providing the economic stimulus we had come to expect during periods of economic recovery. A major reason is that the underwriting rules and practices are much stricter today than they were before the financial crisis.\n",
      "\n",
      "==================================================\n",
      "Original Score: 0.38805311918258667\n",
      "Title: Some Recent Letters on Downsizing and Mortgage Lender Mistakes\n",
      "Document: In pricing loans used to purchase a home, lenders distinguish three possible uses of the property. Mortgages used to purchase a house that the purchasers intend to occupy as their primary residence get the best price.\n",
      "\n",
      "==================================================\n",
      "Original Score: 0.37984713912010193\n",
      "Title: Conventional Versus FHA: Which Should You Choose?\n",
      "Document: Don't jump to the conclusion that the better choice is the mortgage with the lower interest rate. FHAs carry a lower interest rate but largely because of their high insurance premiums, they usually (but not always) cost the borrower more.\n",
      "\n",
      "==================================================\n",
      "Original Score: 0.31877854466438293\n",
      "Title: Investing In a Larger Down Payment: High Yields and No Risk\n",
      "Document: Consumers looking to purchase a home within the near future face many decisions, including how large a down payment to make. The down payment is the sale price (confirmed by a appraisal) less the loan amount. In most cases, home purchasers must have financial assets at least as large as the down payment they make.\n",
      "\n",
      "==================================================\n",
      "Original Score: 0.3098444938659668\n",
      "Title: Do You Have a Simple Interest Mortgage?\n",
      "Document: This is a good time, therefore, for borrowers to make sure that their mortgage has not been converted into a SIM, and if it has, to develop a plan for protecting themselves. It isn't all that difficult once you know the drill.\n",
      "\n",
      "==================================================\n"
     ]
    }
   ],
   "source": [
    "# Process each rephrased version and the original version\n",
    "for i, input_version in enumerate([input_sentence] + rephrased_versions, start=1):\n",
    "    # Print the input version\n",
    "    print(f\"\\nProcessing Input Version {i}: {input_version}\\n{'='*50}\")\n",
    "    \n",
    "    # Retrieve relevant documents for the current version\n",
    "    input_documents = []\n",
    "    input_scores = []\n",
    "\n",
    "    # Encode the current query version\n",
    "    input_emb = model2.encode(input_version)\n",
    "\n",
    "    # Compute similarity scores between the current query version and all documents\n",
    "    similarity_scores = util.dot_score(input_emb, doc_emb)[0].cpu().tolist()\n",
    "\n",
    "    doc_score_title_pairs = list(zip([doc['text'] for doc in dataset[0]['profile']],\n",
    "                                     [doc['title'] for doc in dataset[0]['profile']],\n",
    "                                     similarity_scores))\n",
    "\n",
    "    # Sort by decreasing similarity score\n",
    "    doc_score_title_pairs = sorted(doc_score_title_pairs, key=lambda x: x[2], reverse=True)\n",
    "    \n",
    "    # Calculate the number of documents to retrieve (top 25%)\n",
    "    num_documents_to_retrieve = int(0.25 * len(doc_score_title_pairs))\n",
    "\n",
    "    # Check if the number of documents to retrieve is greater than 15\n",
    "    if num_documents_to_retrieve > 10:\n",
    "        num_documents_to_retrieve = 10\n",
    "\n",
    "    if num_documents_to_retrieve < 5:\n",
    "        num_documents_to_retrieve = 5\n",
    "\n",
    "    for text, title, score in doc_score_title_pairs[:num_documents_to_retrieve]:\n",
    "        print(f\"Original Score: {score}\")\n",
    "        print(f\"Title: {title}\")\n",
    "        print(f\"Document: {text}\\n\")\n",
    "        \n",
    "        # Store relevant document, title, and score for each interpretation\n",
    "        input_documents.append({'text': text, 'title': title})\n",
    "        input_scores.append(score)\n",
    "        \n",
    "        print(\"=\"*50)\n",
    "        \n",
    "    # Store relevant documents and scores for each version\n",
    "    all_relevant_documents.append(input_documents)\n",
    "    all_relevant_scores.append(input_scores)\n",
    "\n",
    "    \n"
   ]
  },
  {
   "cell_type": "code",
   "execution_count": 257,
   "id": "4251ac7a",
   "metadata": {},
   "outputs": [
    {
     "name": "stdout",
     "output_type": "stream",
     "text": [
      "\n",
      "Top  Documents After Average:\n",
      "[{'title': 'Conventional Versus FHA: Which Should You Choose?', 'text': \"Don't jump to the conclusion that the better choice is the mortgage with the lower interest rate. FHAs carry a lower interest rate but largely because of their high insurance premiums, they usually (but not always) cost the borrower more.\"}, {'title': 'Some Recent Letters on Downsizing and Mortgage Lender Mistakes', 'text': 'In pricing loans used to purchase a home, lenders distinguish three possible uses of the property. Mortgages used to purchase a house that the purchasers intend to occupy as their primary residence get the best price.'}, {'title': 'Investing In a Larger Down Payment: High Yields and No Risk', 'text': 'Consumers looking to purchase a home within the near future face many decisions, including how large a down payment to make. The down payment is the sale price (confirmed by a appraisal) less the loan amount. In most cases, home purchasers must have financial assets at least as large as the down payment they make.'}, {'title': 'Why Many Good Mortgage Loans Are Not Being Made', 'text': 'The housing sector today is not providing the economic stimulus we had come to expect during periods of economic recovery. A major reason is that the underwriting rules and practices are much stricter today than they were before the financial crisis.'}, {'title': 'Do You Have a Simple Interest Mortgage?', 'text': \"This is a good time, therefore, for borrowers to make sure that their mortgage has not been converted into a SIM, and if it has, to develop a plan for protecting themselves. It isn't all that difficult once you know the drill.\"}, {'title': 'Reflections on Mandatory Counseling', 'text': 'I have written many articles on regulatory prohibitions and mandatory disclosures in the mortgage market, most of it critical, but this is my first look at mandatory counseling. Except for reverse mortgages, it has not been much used until recently.'}, {'title': 'After March 2, Reverse Mortgage Borrowers Will Have to Prove They Are Not Deadbeats', 'text': 'Applicants with plenty of equity in their homes might find that the fully-funded Set-Aside imposes no burden on them at all, in which case the underwriting costs could be avoided. There is no reason why lenders and borrowers should not have that option.'}]\n"
     ]
    }
   ],
   "source": [
    "# Calculate average score for each document across different interpretations\n",
    "average_scores = {}\n",
    "for documents, scores in zip(all_relevant_documents, all_relevant_scores):\n",
    "    for doc_dict, score in zip(documents, scores):\n",
    "        if isinstance(doc_dict, dict):  # Check if it's a dictionary\n",
    "            doc_text = doc_dict.get('text', '')  # Use 'get' to provide a default value if 'text' is not present\n",
    "            doc_title = doc_dict.get('title', '')  # Use 'get' to provide a default value if 'title' is not present\n",
    "            if doc_text:\n",
    "                if doc_text not in average_scores:\n",
    "                    average_scores[doc_text] = {'text': doc_text, 'title': doc_title, 'scores': []}\n",
    "                average_scores[doc_text]['scores'].append(score)\n",
    "\n",
    "# Calculate average score for each document\n",
    "average_documents = [{'title': details['title'], 'text': details['text'], 'average_score': sum(details['scores']) / len(details['scores'])}for details in average_scores.values()]\n",
    "\n",
    "# Sort documents based on average scores\n",
    "sorted_documents = sorted(average_documents, key=lambda x: x['average_score'], reverse=True)\n",
    "\n",
    "retrieval_docs = []\n",
    "\n",
    "# Output top 10 documents based on average scores\n",
    "print(\"\\nTop  Documents After Average:\")\n",
    "for doc_dict in sorted_documents[:7]:\n",
    "    new_doc_dict = {'title': doc_dict['title'], 'text': doc_dict['text']}\n",
    "    retrieval_docs.append(new_doc_dict)\n",
    "print(retrieval_docs)"
   ]
  },
  {
   "cell_type": "code",
   "execution_count": 258,
   "id": "f34532ab",
   "metadata": {},
   "outputs": [
    {
     "name": "stdout",
     "output_type": "stream",
     "text": [
      "1. The text is: Don't jump to the conclusion that the better choice is the mortgage with the lower interest rate. FHAs carry a lower interest rate but largely because of their high insurance premiums, they usually (but not always) cost the borrower more.\n",
      "The title for the above text is: Conventional Versus FHA: Which Should You Choose?\n",
      "2. The text is: In pricing loans used to purchase a home, lenders distinguish three possible uses of the property. Mortgages used to purchase a house that the purchasers intend to occupy as their primary residence get the best price.\n",
      "The title for the above text is: Some Recent Letters on Downsizing and Mortgage Lender Mistakes\n",
      "3. The text is: Consumers looking to purchase a home within the near future face many decisions, including how large a down payment to make. The down payment is the sale price (confirmed by a appraisal) less the loan amount. In most cases, home purchasers must have financial assets at least as large as the down payment they make.\n",
      "The title for the above text is: Investing In a Larger Down Payment: High Yields and No Risk\n",
      "4. The text is: The housing sector today is not providing the economic stimulus we had come to expect during periods of economic recovery. A major reason is that the underwriting rules and practices are much stricter today than they were before the financial crisis.\n",
      "The title for the above text is: Why Many Good Mortgage Loans Are Not Being Made\n",
      "5. The text is: This is a good time, therefore, for borrowers to make sure that their mortgage has not been converted into a SIM, and if it has, to develop a plan for protecting themselves. It isn't all that difficult once you know the drill.\n",
      "The title for the above text is: Do You Have a Simple Interest Mortgage?\n",
      "6. The text is: I have written many articles on regulatory prohibitions and mandatory disclosures in the mortgage market, most of it critical, but this is my first look at mandatory counseling. Except for reverse mortgages, it has not been much used until recently.\n",
      "The title for the above text is: Reflections on Mandatory Counseling\n",
      "7. The text is: Applicants with plenty of equity in their homes might find that the fully-funded Set-Aside imposes no burden on them at all, in which case the underwriting costs could be avoided. There is no reason why lenders and borrowers should not have that option.\n",
      "The title for the above text is: After March 2, Reverse Mortgage Borrowers Will Have to Prove They Are Not Deadbeats\n",
      "\n"
     ]
    }
   ],
   "source": [
    "r_d = ''\n",
    "count = 1\n",
    "for i in retrieval_docs:\n",
    "  # print(i)\n",
    "  r_d += str(count) + '. '\n",
    "  r_d += 'The text is: ' + i['text'] + '\\n'\n",
    "  r_d += 'The title for the above text is: ' + i['title'] + '\\n'\n",
    "  count += 1\n",
    "  # if count > 7:\n",
    "  #   break\n",
    "\n",
    "print(r_d)"
   ]
  },
  {
   "cell_type": "markdown",
   "id": "30cdcb84-7bfa-4977-a5a6-f90cb022a356",
   "metadata": {},
   "source": [
    "PALM USING GOOGLE API"
   ]
  },
  {
   "cell_type": "code",
   "execution_count": 227,
   "id": "91639b82",
   "metadata": {},
   "outputs": [
    {
     "name": "stderr",
     "output_type": "stream",
     "text": [
      "huggingface/tokenizers: The current process just got forked, after parallelism has already been used. Disabling parallelism to avoid deadlocks...\n",
      "To disable this warning, you can either:\n",
      "\t- Avoid using `tokenizers` before the fork if possible\n",
      "\t- Explicitly set the environment variable TOKENIZERS_PARALLELISM=(true | false)\n"
     ]
    },
    {
     "name": "stdout",
     "output_type": "stream",
     "text": [
      "\n",
      "\u001b[1m[\u001b[0m\u001b[34;49mnotice\u001b[0m\u001b[1;39;49m]\u001b[0m\u001b[39;49m A new release of pip is available: \u001b[0m\u001b[31;49m23.0.1\u001b[0m\u001b[39;49m -> \u001b[0m\u001b[32;49m23.3.1\u001b[0m\n",
      "\u001b[1m[\u001b[0m\u001b[34;49mnotice\u001b[0m\u001b[1;39;49m]\u001b[0m\u001b[39;49m To update, run: \u001b[0m\u001b[32;49mpip install --upgrade pip\u001b[0m\n",
      "Note: you may need to restart the kernel to use updated packages.\n"
     ]
    }
   ],
   "source": [
    "# pip install -U -q google-generativeai"
   ]
  },
  {
   "cell_type": "code",
   "execution_count": 239,
   "id": "af3d41c8",
   "metadata": {},
   "outputs": [],
   "source": [
    "import google.generativeai as palm\n",
    "\n",
    "import textwrap\n",
    "import numpy as np\n",
    "import pandas as pd"
   ]
  },
  {
   "cell_type": "code",
   "execution_count": 259,
   "id": "14da19b5",
   "metadata": {},
   "outputs": [],
   "source": []
  },
  {
   "cell_type": "code",
   "execution_count": 260,
   "id": "143c152c-e007-4e60-8e9e-f16c86fa62d9",
   "metadata": {},
   "outputs": [],
   "source": [
    "def make_prompt(query, relevant_passage):\n",
    "  escaped = relevant_passage.replace(\"'\", \"\").replace('\"', \"\").replace(\"\\n\", \" \")\n",
    "  prompt = textwrap.dedent(\"\"\"You are a helpful and informative bot that answers questions using text from the reference passage included below.   \n",
    "  Be sure to respond in a complete sentence, including all relevant background information. I'm providing you with some sample texts and title written by me for 7 texts examples.\n",
    "  Based on the context provided, what's a relevant title for the following news article\n",
    "  QUESTION: '{query}'\n",
    "  PASSAGE: '{relevant_passage}'\n",
    "\n",
    "    ANSWER:\n",
    "  \"\"\").format(query=query, relevant_passage=escaped)\n",
    "\n",
    "  return prompt"
   ]
  },
  {
   "cell_type": "code",
   "execution_count": 261,
   "id": "631af48e-e584-4f7f-a031-00ef8b378c31",
   "metadata": {},
   "outputs": [],
   "source": [
    "passage = r_d"
   ]
  },
  {
   "cell_type": "code",
   "execution_count": 262,
   "id": "b8920533-1a14-4b48-a837-6b33f6c3bdc7",
   "metadata": {},
   "outputs": [
    {
     "name": "stdout",
     "output_type": "stream",
     "text": [
      "You are a helpful and informative bot that answers questions using text from the reference passage included below.   \n",
      "  Be sure to respond in a complete sentence, including all relevant background information. I'm providing you with some sample texts and title written by me for 7 texts examples.\n",
      "  Based on the context provided, what's a relevant title for the following news article\n",
      "  QUESTION: 'Your loans were made at the height of the housing bubble, and looked like a great deal at the time. By using a HELOC as a \"piggyback\" second mortgage, you were not required to make a down payment or to purchase mortgage insurance.'\n",
      "  PASSAGE: '1. The text is: Dont jump to the conclusion that the better choice is the mortgage with the lower interest rate. FHAs carry a lower interest rate but largely because of their high insurance premiums, they usually (but not always) cost the borrower more. The title for the above text is: Conventional Versus FHA: Which Should You Choose? 2. The text is: In pricing loans used to purchase a home, lenders distinguish three possible uses of the property. Mortgages used to purchase a house that the purchasers intend to occupy as their primary residence get the best price. The title for the above text is: Some Recent Letters on Downsizing and Mortgage Lender Mistakes 3. The text is: Consumers looking to purchase a home within the near future face many decisions, including how large a down payment to make. The down payment is the sale price (confirmed by a appraisal) less the loan amount. In most cases, home purchasers must have financial assets at least as large as the down payment they make. The title for the above text is: Investing In a Larger Down Payment: High Yields and No Risk 4. The text is: The housing sector today is not providing the economic stimulus we had come to expect during periods of economic recovery. A major reason is that the underwriting rules and practices are much stricter today than they were before the financial crisis. The title for the above text is: Why Many Good Mortgage Loans Are Not Being Made 5. The text is: This is a good time, therefore, for borrowers to make sure that their mortgage has not been converted into a SIM, and if it has, to develop a plan for protecting themselves. It isnt all that difficult once you know the drill. The title for the above text is: Do You Have a Simple Interest Mortgage? 6. The text is: I have written many articles on regulatory prohibitions and mandatory disclosures in the mortgage market, most of it critical, but this is my first look at mandatory counseling. Except for reverse mortgages, it has not been much used until recently. The title for the above text is: Reflections on Mandatory Counseling 7. The text is: Applicants with plenty of equity in their homes might find that the fully-funded Set-Aside imposes no burden on them at all, in which case the underwriting costs could be avoided. There is no reason why lenders and borrowers should not have that option. The title for the above text is: After March 2, Reverse Mortgage Borrowers Will Have to Prove They Are Not Deadbeats '\n",
      "\n",
      "    ANSWER:\n",
      "\n"
     ]
    }
   ],
   "source": [
    "prompt = make_prompt(query, passage)\n",
    "print(prompt)"
   ]
  },
  {
   "cell_type": "code",
   "execution_count": 263,
   "id": "2569cd1e-8459-4142-be87-15a41e728794",
   "metadata": {},
   "outputs": [],
   "source": [
    "text_models = [m for m in palm.list_models() if 'generateText' in m.supported_generation_methods]\n",
    "\n",
    "text_model = text_models[0]"
   ]
  },
  {
   "cell_type": "code",
   "execution_count": 264,
   "id": "4614b33a-9dab-470d-905b-216a0547fbc5",
   "metadata": {},
   "outputs": [],
   "source": [
    "temperature = 0.5\n",
    "answer = palm.generate_text(prompt=prompt,\n",
    "                            model=text_model,\n",
    "                            candidate_count=3,\n",
    "                            temperature=temperature,\n",
    "                            max_output_tokens=1000)"
   ]
  },
  {
   "cell_type": "code",
   "execution_count": 265,
   "id": "ab6de131-df07-44f3-9f4d-d0bc0fba12e6",
   "metadata": {},
   "outputs": [
    {
     "name": "stdout",
     "output_type": "stream",
     "text": [
      "Candidate 0: After March 2, Reverse Mortgage Borrowers Will Have to Prove They Are Not Deadbeats\n",
      "\n",
      "Candidate 1: A relevant title for the following news article is: Beware of the HELOC \"Piggyback\" Second Mortgage.\n",
      "\n",
      "Candidate 2: Borrowers with HELOCs and Piggyback Loans Face a Tough Choice\n",
      "\n"
     ]
    }
   ],
   "source": [
    "for i, candidate in enumerate(answer.candidates):\n",
    "  print(f\"Candidate {i}: {candidate['output']}\\n\")"
   ]
  },
  {
   "cell_type": "code",
   "execution_count": null,
   "id": "199d3c96-b5ed-4934-87fc-aff41bd3a85e",
   "metadata": {},
   "outputs": [],
   "source": []
  },
  {
   "cell_type": "code",
   "execution_count": null,
   "id": "a75f734d-c862-4379-ba9f-c4bcc1507818",
   "metadata": {},
   "outputs": [],
   "source": []
  },
  {
   "cell_type": "code",
   "execution_count": null,
   "id": "6e7f9784-5fcb-4828-ace2-484a8825fe4a",
   "metadata": {},
   "outputs": [],
   "source": []
  }
 ],
 "metadata": {
  "kernelspec": {
   "display_name": "Python 3 (ipykernel)",
   "language": "python",
   "name": "python3"
  },
  "language_info": {
   "codemirror_mode": {
    "name": "ipython",
    "version": 3
   },
   "file_extension": ".py",
   "mimetype": "text/x-python",
   "name": "python",
   "nbconvert_exporter": "python",
   "pygments_lexer": "ipython3",
   "version": "3.9.18"
  }
 },
 "nbformat": 4,
 "nbformat_minor": 5
}
